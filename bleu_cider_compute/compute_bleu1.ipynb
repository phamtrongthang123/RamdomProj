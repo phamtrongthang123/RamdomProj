{
 "metadata": {
  "language_info": {
   "codemirror_mode": {
    "name": "ipython",
    "version": 3
   },
   "file_extension": ".py",
   "mimetype": "text/x-python",
   "name": "python",
   "nbconvert_exporter": "python",
   "pygments_lexer": "ipython3",
   "version": "3.7.7"
  },
  "orig_nbformat": 2,
  "kernelspec": {
   "name": "python377jvsc74a57bd073b831e701791890a3f59b0fe02180943739475b7622f56ac4dddfa4795d20b0",
   "display_name": "Python 3.7.7 64-bit ('base': conda)"
  }
 },
 "nbformat": 4,
 "nbformat_minor": 2,
 "cells": [
  {
   "cell_type": "code",
   "execution_count": 6,
   "metadata": {},
   "outputs": [],
   "source": [
    "from collections import defaultdict\n",
    "import math\n",
    "\n",
    "gt = ['A car show with people looking at cars at Becker Auto Body',\t'Car that is driving pass people and becker auto body',\t'A red muscle car with the license plate IDH 1969 drives past Becker Auto Body.',\t'Red car that has the letters SS on the front.',\t'Red car with a plate that says TDH1969 on it.']\n",
    "gt = [g.lower() for g in gt]\n",
    "pred = 'a car have letters becker auto body on the side side side' # 0.667\n",
    "pred = 'a car have letters becker letters becker auto body on the side side side' # 0.532"
   ]
  },
  {
   "cell_type": "code",
   "execution_count": 7,
   "metadata": {},
   "outputs": [
    {
     "output_type": "stream",
     "name": "stdout",
     "text": [
      "Prediction 1-gram: \ndefaultdict(<class 'int'>, {'a': 1, 'car': 1, 'have': 1, 'letters': 2, 'becker': 2, 'auto': 1, 'body': 1, 'on': 1, 'the': 1, 'side': 3})\n\nGround truth 1-gram: \n[defaultdict(<class 'int'>, {'a': 1, 'car': 1, 'show': 1, 'with': 1, 'people': 1, 'looking': 1, 'at': 2, 'cars': 1, 'becker': 1, 'auto': 1, 'body': 1}), defaultdict(<class 'int'>, {'car': 1, 'that': 1, 'is': 1, 'driving': 1, 'pass': 1, 'people': 1, 'and': 1, 'becker': 1, 'auto': 1, 'body': 1}), defaultdict(<class 'int'>, {'a': 1, 'red': 1, 'muscle': 1, 'car': 1, 'with': 1, 'the': 1, 'license': 1, 'plate': 1, 'idh': 1, '1969': 1, 'drives': 1, 'past': 1, 'becker': 1, 'auto': 1, 'body.': 1}), defaultdict(<class 'int'>, {'red': 1, 'car': 1, 'that': 1, 'has': 1, 'the': 2, 'letters': 1, 'ss': 1, 'on': 1, 'front.': 1}), defaultdict(<class 'int'>, {'red': 1, 'car': 1, 'with': 1, 'a': 1, 'plate': 1, 'that': 1, 'says': 1, 'tdh1969': 1, 'on': 1, 'it.': 1})]\n"
     ]
    }
   ],
   "source": [
    "# Step 1: split ngram and frequency\n",
    "pred1gram = defaultdict(int)\n",
    "gt1gram = [defaultdict(int) for _ in range(len(gt))]\n",
    "\n",
    "for w in pred.split(): \n",
    "    pred1gram[w] += 1\n",
    "for i,s in enumerate(gt):\n",
    "    for w in s.split():\n",
    "        gt1gram[i][w] += 1\n",
    "\n",
    "print(\"Prediction 1-gram: \\n%s\\n\" % pred1gram)\n",
    "print(\"Ground truth 1-gram: \\n%s\" % gt1gram)"
   ]
  },
  {
   "source": [
    "$$\n",
    "\\begin{aligned}\n",
    "p_{n}=& \\frac{\\sum_{C \\in\\{\\text { Candidates }\\}} \\sum_{n \\text { -gram } \\in C} \\text {Count}_{clip} (n \\text { -gram })}{\\sum_{C^{\\prime} \\in\\{\\text { Candidates }\\}} \\sum_{n-g r a m^{\\prime} \\in C^{\\prime}} \\operatorname{Count}\\left(n-g r a m^{\\prime}\\right)} .\n",
    "\\end{aligned}\n",
    "$$\n",
    "\n",
    "$$\n",
    "\\text { Count }_{\\text {clip }}=\\min (\\text { Count }, \\text { Max_Ref_Count })\n",
    "$$"
   ],
   "cell_type": "markdown",
   "metadata": {}
  },
  {
   "cell_type": "code",
   "execution_count": 8,
   "metadata": {},
   "outputs": [
    {
     "output_type": "stream",
     "name": "stdout",
     "text": [
      "Computed Modified Unigram Precision:  0.5714285714285714\n"
     ]
    }
   ],
   "source": [
    "# step 2: Compute Modified Unigram Precision \n",
    "count_clip = 0\n",
    "for w,fw in pred1gram.items():\n",
    "    max_ref_count = gt1gram[0][w]\n",
    "    for i in range(1,len(gt1gram)):\n",
    "        max_ref_count = max(gt1gram[i][w], max_ref_count)\n",
    "\n",
    "    count_clip += min(fw, max_ref_count)\n",
    "\n",
    "mup = count_clip / len(pred.split())\n",
    "print(\"Computed Modified Unigram Precision: \", mup)"
   ]
  },
  {
   "source": [
    "Next, let $c$ be the length of the candidate translation and $r$ be the effective reference corpus length. We compute the brevity penalty BP,\n",
    "$$\n",
    "\\mathrm{BP}=\\left\\{\\begin{array}{ll}\n",
    "1 & \\text { if } c>r \\\\\n",
    "e^{(1-r / c)} & \\text { if } c \\leq r\n",
    "\\end{array}\\right.\n",
    "$$\n",
    "Then,\n",
    "$$\n",
    "\\mathrm{BLEU}=\\mathrm{BP} \\cdot \\exp \\left(\\sum_{n=1}^{N} w_{n} \\log p_{n}\\right)\n",
    "$$\n",
    "In the baseline, we use $N=4$ and uniform weights $w_{n}=1 / N$"
   ],
   "cell_type": "markdown",
   "metadata": {}
  },
  {
   "cell_type": "code",
   "execution_count": 9,
   "metadata": {},
   "outputs": [
    {
     "output_type": "stream",
     "name": "stdout",
     "text": [
      "Effective reference length r = 15\n",
      "Brevity penalty BP = 0.9310627797040228\n"
     ]
    }
   ],
   "source": [
    "# Step 3: Compute brevity penalty\n",
    "\n",
    "# 3.1: compute effective reference length (closest length)\n",
    "candlen = len(pred.split())\n",
    "r = min([(abs(len(s.split()) - candlen), len(s.split())) for s in gt])[1]\n",
    "print(\"Effective reference length r = %s\"%r)\n",
    "# 3.2: compute BP \n",
    "if candlen > r:\n",
    "    BP = 1\n",
    "else:\n",
    "    BP = math.exp(1- float(r/candlen))\n",
    "print(\"Brevity penalty BP = %s\" % BP)\n"
   ]
  },
  {
   "cell_type": "code",
   "execution_count": 10,
   "metadata": {},
   "outputs": [
    {
     "output_type": "stream",
     "name": "stdout",
     "text": [
      "Computed BLEU = 0.532\n"
     ]
    }
   ],
   "source": [
    "# Final step: Compute BLEU\n",
    "BLEU = BP * mup \n",
    "print(\"Computed BLEU = %.3f\" % BLEU)"
   ]
  },
  {
   "cell_type": "code",
   "execution_count": null,
   "metadata": {},
   "outputs": [],
   "source": []
  }
 ]
}